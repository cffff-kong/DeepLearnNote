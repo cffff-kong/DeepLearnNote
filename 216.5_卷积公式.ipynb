{
 "cells": [
  {
   "cell_type": "markdown",
   "id": "6daa5b7e",
   "metadata": {},
   "source": [
    "1. 对于什么都没有的情况下，图像输出的大小为：\n",
    "\n",
    "输入形状从 $n_h \\times n_w$ 减少到 \n",
    "$$\n",
    "(n_h - k_h + 1) \\times (n_w - k_w + 1)\n",
    "$$\n",
    "\n",
    "k是卷积核的尺寸"
   ]
  },
  {
   "cell_type": "markdown",
   "id": "eeb49303",
   "metadata": {},
   "source": [
    "2. 对于有padding的情况：\n",
    "填充 $p_h$ 行和 $p_w$ 列后，输出形状为 \n",
    "$$\n",
    "(n_h - k_h + p_h + 1) \\times (n_w - k_w + p_w + 1)\n",
    "$$\n",
    "\n",
    "需要注意的是这里的$p_h$和%p_w%是填充的**行数**和**列数**，上下各一行=两行，左右各一列=两列。\n",
    "\n",
    "通常，$p_h$ = $k_h-1$，$p_w$ = $k_w-1$"
   ]
  },
  {
   "cell_type": "markdown",
   "id": "df9ad004",
   "metadata": {},
   "source": [
    "3. 对于有step的情况：\n",
    "$$\n",
    "\\left\\lfloor \\frac{n_h - k_h + p_h + s_h}{s_h} \\right\\rfloor \\times \\left\\lfloor \\frac{n_w - k_w + p_w + s_w}{s_w} \\right\\rfloor\n",
    "$$\n",
    "其中$\\left\\lfloor\\right\\rfloor$ 是向下取整；\n",
    "\n",
    "当$p_h$ = $k_h-1$，$p_w$ = $k_w-1$时，则\n",
    "$$\n",
    "\\left\\lfloor \\frac{n_h - k_h + 1}{s_h} \\right\\rfloor \\times \\left\\lfloor \\frac{n_w - k_w + 1}{s_w} \\right\\rfloor\n",
    "$$\n",
    "\n",
    "此时如果输入的高度和宽度可以被步幅**整除**，则\n",
    "$$\n",
    "(\\frac{n_h}{s_h}\\times\\frac{n_w}{s_w})\n",
    "$$\n"
   ]
  },
  {
   "cell_type": "markdown",
   "id": "5f465989",
   "metadata": {},
   "source": [
    "总结一下，一般输入的矩阵都是偶数*偶数，然后padding选$p_h$ = $k_h-1$，$p_w$ = $k_w-1$，step选2,就可以用上边那个公式去计算"
   ]
  }
 ],
 "metadata": {
  "language_info": {
   "name": "python"
  }
 },
 "nbformat": 4,
 "nbformat_minor": 5
}
